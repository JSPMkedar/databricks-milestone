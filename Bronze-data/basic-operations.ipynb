{
 "cells": [
  {
   "cell_type": "code",
   "execution_count": 0,
   "metadata": {
    "application/vnd.databricks.v1+cell": {
     "cellMetadata": {
      "byteLimit": 2048000,
      "rowLimit": 10000
     },
     "inputWidgets": {},
     "nuid": "c4c08522-15b1-47cd-8f5c-fe7520c6947a",
     "showTitle": false,
     "tableResultSettingsMap": {},
     "title": ""
    }
   },
   "outputs": [],
   "source": [
    "employee_df = spark.sql(\"select * from employee\")\n",
    "display(employee_df)"
   ]
  },
  {
   "cell_type": "code",
   "execution_count": 0,
   "metadata": {
    "application/vnd.databricks.v1+cell": {
     "cellMetadata": {
      "byteLimit": 2048000,
      "rowLimit": 10000
     },
     "inputWidgets": {},
     "nuid": "b4cabd96-69c0-44a3-9b98-c6ea5a7920b1",
     "showTitle": false,
     "tableResultSettingsMap": {},
     "title": ""
    }
   },
   "outputs": [],
   "source": [
    "from pyspark.sql.window import Window\n",
    "from pyspark.sql.functions import *\n",
    "from pyspark.sql.types import *"
   ]
  },
  {
   "cell_type": "code",
   "execution_count": 0,
   "metadata": {
    "application/vnd.databricks.v1+cell": {
     "cellMetadata": {
      "byteLimit": 2048000,
      "rowLimit": 10000
     },
     "inputWidgets": {},
     "nuid": "9cead7ec-8cc1-4be5-9fa5-0d73327d2025",
     "showTitle": false,
     "tableResultSettingsMap": {},
     "title": ""
    }
   },
   "outputs": [],
   "source": [
    "windowSpec = Window.partitionBy(col('Department')).orderBy(col('EmployeeID'))\n",
    "emp_ranked = employee_df.withColumn('Rank', rank().over(windowSpec))\n",
    "display(emp_ranked)"
   ]
  },
  {
   "cell_type": "code",
   "execution_count": 0,
   "metadata": {
    "application/vnd.databricks.v1+cell": {
     "cellMetadata": {
      "byteLimit": 2048000,
      "rowLimit": 10000
     },
     "inputWidgets": {},
     "nuid": "9b2efdc0-a970-4933-b636-81fd8df7188f",
     "showTitle": false,
     "tableResultSettingsMap": {},
     "title": ""
    }
   },
   "outputs": [],
   "source": [
    "windowSpec = Window.partitionBy(col('Department')).orderBy(col('Salary').desc())\n",
    "df1 = employee_df.withColumn('salary_ranked', dense_rank().over(windowSpec))\n",
    "display(df1.select(col('FirstName'), col('Department'), col('Salary'),col('salary_ranked')).where('salary_ranked=2'))"
   ]
  },
  {
   "cell_type": "code",
   "execution_count": 0,
   "metadata": {
    "application/vnd.databricks.v1+cell": {
     "cellMetadata": {
      "byteLimit": 2048000,
      "rowLimit": 10000
     },
     "inputWidgets": {},
     "nuid": "d6145ad8-10e8-4f00-8007-116a578fdc2e",
     "showTitle": false,
     "tableResultSettingsMap": {},
     "title": ""
    }
   },
   "outputs": [],
   "source": [
    "display(employee_df.select(col('Department')).distinct())"
   ]
  },
  {
   "cell_type": "code",
   "execution_count": 0,
   "metadata": {
    "application/vnd.databricks.v1+cell": {
     "cellMetadata": {
      "byteLimit": 2048000,
      "rowLimit": 10000
     },
     "inputWidgets": {},
     "nuid": "dfb28dc8-6ac1-41e7-8478-265b472d5a9e",
     "showTitle": false,
     "tableResultSettingsMap": {},
     "title": ""
    }
   },
   "outputs": [],
   "source": [
    "schema = StructType([\n",
    "    StructField('DeptId', IntegerType()),\n",
    "    StructField('Name', StringType())\n",
    "])\n",
    "\n",
    "data = [\n",
    "(10,'HR'),\n",
    "(11,'IT'),\n",
    "(12, 'Sales'),\n",
    "(13, 'Finance'),\n",
    "(14, 'Marketing'),\n",
    "(15, 'Infra'),\n",
    "(16, 'CIS'),\n",
    "(17, 'Workforce')\n",
    "]\n",
    "\n",
    "department_df = spark.createDataFrame(data,schema)\n",
    "\n",
    "display(department_df)"
   ]
  },
  {
   "cell_type": "code",
   "execution_count": 0,
   "metadata": {
    "application/vnd.databricks.v1+cell": {
     "cellMetadata": {
      "byteLimit": 2048000,
      "rowLimit": 10000
     },
     "inputWidgets": {},
     "nuid": "e8443195-6bce-4a79-bec3-b0a92a38316f",
     "showTitle": false,
     "tableResultSettingsMap": {},
     "title": ""
    }
   },
   "outputs": [],
   "source": [
    "employee_df = employee_df.withColumn('DeptId', when(col('Department')=='HR', 10)\n",
    "                                     .when(col('Department')=='IT', 11)\n",
    "                                     .when(col('Department')=='Sales', 12)\n",
    "                                     .when(col('Department')=='Finance', 13)\n",
    "                                     .when(col('Department')=='Marketing', 14)\n",
    "                                     )\n",
    "employee_df = employee_df.select(col('EmployeeID'), col('FirstName'), col('LastName'), col('DeptId'), col('Position'), col('Salary'), col('HireDate'))\n",
    "display(employee_df)"
   ]
  },
  {
   "cell_type": "code",
   "execution_count": 0,
   "metadata": {
    "application/vnd.databricks.v1+cell": {
     "cellMetadata": {
      "byteLimit": 2048000,
      "rowLimit": 10000
     },
     "inputWidgets": {},
     "nuid": "9e5ac078-d684-4f50-a1cb-a66b219936c9",
     "showTitle": false,
     "tableResultSettingsMap": {},
     "title": ""
    }
   },
   "outputs": [],
   "source": [
    "joined_df1 = employee_df.join(department_df, employee_df.DeptId==department_df.DeptId, 'LEFT')\n",
    "display(joined_df1)"
   ]
  },
  {
   "cell_type": "code",
   "execution_count": 0,
   "metadata": {
    "application/vnd.databricks.v1+cell": {
     "cellMetadata": {},
     "inputWidgets": {},
     "nuid": "65a489e7-a800-4114-895a-5d9c74954465",
     "showTitle": false,
     "tableResultSettingsMap": {},
     "title": ""
    }
   },
   "outputs": [],
   "source": [
    "f1"
   ]
  }
 ],
 "metadata": {
  "application/vnd.databricks.v1+notebook": {
   "computePreferences": {
    "hardware": {
     "accelerator": null,
     "gpuPoolId": null,
     "memory": null
    }
   },
   "dashboards": [],
   "environmentMetadata": {
    "base_environment": "",
    "environment_version": "2"
   },
   "inputWidgetPreferences": null,
   "language": "python",
   "notebookMetadata": {
    "pythonIndentUnit": 4
   },
   "notebookName": "basic-operations",
   "widgets": {}
  },
  "language_info": {
   "name": "python"
  }
 },
 "nbformat": 4,
 "nbformat_minor": 0
}
